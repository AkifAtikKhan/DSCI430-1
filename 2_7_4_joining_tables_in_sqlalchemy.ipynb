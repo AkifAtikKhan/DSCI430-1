{
 "cells": [
  {
   "cell_type": "markdown",
   "metadata": {
    "slideshow": {
     "slide_type": "slide"
    }
   },
   "source": [
    "## Joins with `sqlalchemy`\n",
    "\n",
    "To join to tables in `sqlalchemy`\n",
    "\n",
    "1. Use `join` to create a `Join` object\n",
    "2. Build a `select` statement from the `join` object"
   ]
  },
  {
   "cell_type": "markdown",
   "metadata": {
    "slideshow": {
     "slide_type": "slide"
    }
   },
   "source": [
    "## Example - Reading in the Company `db`"
   ]
  },
  {
   "cell_type": "code",
   "execution_count": null,
   "metadata": {
    "slideshow": {
     "slide_type": "fragment"
    }
   },
   "outputs": [],
   "source": [
    "from sqlalchemy.orm import sessionmaker\n",
    "from sqlalchemy import create_engine, func\n",
    "from sqlalchemy.ext.automap import automap_base\n",
    "\n",
    "engine = create_engine(\"sqlite:///databases/company_2_7_2.db\")\n",
    "\n",
    "Base = automap_base()\n",
    "Base.prepare(engine, reflect=True)\n",
    "Dept = Base.classes.department\n",
    "Empl = Base.classes.employee"
   ]
  },
  {
   "cell_type": "code",
   "execution_count": null,
   "metadata": {
    "slideshow": {
     "slide_type": "slide"
    }
   },
   "outputs": [],
   "source": [
    "import pandas as pd\n",
    "from sqlalchemy import select as selectq\n",
    "d = selectq([Dept])\n",
    "pd.read_sql_query(d, con=engine)"
   ]
  },
  {
   "cell_type": "code",
   "execution_count": null,
   "metadata": {
    "slideshow": {
     "slide_type": "slide"
    }
   },
   "outputs": [],
   "source": [
    "e = selectq([Empl])\n",
    "pd.read_sql_query(e, con=engine)"
   ]
  },
  {
   "cell_type": "markdown",
   "metadata": {
    "slideshow": {
     "slide_type": "slide"
    }
   },
   "source": [
    "## Using `sqlalchemy.join` to create a `Join`\n",
    "\n",
    "**Syntax:** `join(left_table, right_table, onclause=left_table.column == right_table.column)`\n",
    "\n",
    "* Defaults to an inner join\n",
    "* Set `isouter=True` to get a `LEFT OUTER JOIN`\n",
    "* Set `full=True` to get a `FULL OUTER JOIN`"
   ]
  },
  {
   "cell_type": "code",
   "execution_count": null,
   "metadata": {
    "slideshow": {
     "slide_type": "fragment"
    }
   },
   "outputs": [],
   "source": [
    "from sqlalchemy import join\n",
    "j = join(Empl, Dept, onclause=Empl.DeptID == Dept.DeptID)\n",
    "print(j)"
   ]
  },
  {
   "cell_type": "markdown",
   "metadata": {
    "slideshow": {
     "slide_type": "slide"
    }
   },
   "source": [
    "## Inspecting the joined column names\n",
    "\n",
    "Note that the columns are renamed `tableName_columnName`."
   ]
  },
  {
   "cell_type": "code",
   "execution_count": null,
   "metadata": {
    "slideshow": {
     "slide_type": "fragment"
    }
   },
   "outputs": [],
   "source": [
    "j.c.keys()"
   ]
  },
  {
   "cell_type": "markdown",
   "metadata": {
    "slideshow": {
     "slide_type": "slide"
    }
   },
   "source": [
    "## Creating a `Select` expression for a `Join`"
   ]
  },
  {
   "cell_type": "code",
   "execution_count": null,
   "metadata": {
    "slideshow": {
     "slide_type": "fragment"
    }
   },
   "outputs": [],
   "source": [
    "from sqlalchemy import func, select as selectq\n",
    "\n",
    "stmt = selectq([j])\n",
    "print(stmt)"
   ]
  },
  {
   "cell_type": "code",
   "execution_count": null,
   "metadata": {
    "slideshow": {
     "slide_type": "slide"
    }
   },
   "outputs": [],
   "source": [
    "pd.read_sql_query(stmt, con=engine)"
   ]
  },
  {
   "cell_type": "markdown",
   "metadata": {
    "slideshow": {
     "slide_type": "slide"
    }
   },
   "source": [
    "## Left Join"
   ]
  },
  {
   "cell_type": "code",
   "execution_count": null,
   "metadata": {
    "slideshow": {
     "slide_type": "fragment"
    }
   },
   "outputs": [],
   "source": [
    "left_join = join(Empl, Dept, onclause=Empl.DeptID==Dept.DeptID, isouter=True)\n",
    "left_join_stmt = selectq([left_join])\n",
    "pd.read_sql_query(left_join_stmt, con=engine)"
   ]
  },
  {
   "cell_type": "markdown",
   "metadata": {
    "slideshow": {
     "slide_type": "slide"
    }
   },
   "source": [
    "## Right Join\n",
    "\n",
    "To get a `RIGHT OUTER JOIN`, just switch the order and use a `LEFT OUTER JOIN`"
   ]
  },
  {
   "cell_type": "code",
   "execution_count": null,
   "metadata": {
    "slideshow": {
     "slide_type": "fragment"
    }
   },
   "outputs": [],
   "source": [
    "right_join = join(Dept, Empl, onclause=Empl.DeptID==Dept.DeptID, isouter=True)\n",
    "right_join_stmt = selectq([right_join])\n",
    "pd.read_sql_query(right_join_stmt, con=engine)"
   ]
  },
  {
   "cell_type": "markdown",
   "metadata": {
    "slideshow": {
     "slide_type": "slide"
    }
   },
   "source": [
    "## Full Outer Join\n",
    "\n",
    "**Note:** `sqllite` does not support this type of join `:/`"
   ]
  },
  {
   "cell_type": "code",
   "execution_count": null,
   "metadata": {
    "slideshow": {
     "slide_type": "fragment"
    }
   },
   "outputs": [],
   "source": [
    "full_join = join(Empl, Dept, onclause=Empl.DeptID==Dept.DeptID, full=True)\n",
    "full_join_stmt = selectq([full_join])\n",
    "pd.read_sql_query(full_join_stmt, con=engine)"
   ]
  },
  {
   "cell_type": "markdown",
   "metadata": {
    "slideshow": {
     "slide_type": "slide"
    }
   },
   "source": [
    "## <font color=\"red\"> Exercise 3 </font>\n",
    "\n",
    "Determine all the players that have hit more than 100 home runs in a season.  The final table should include the players proper name, as well as the team name.  \n",
    "\n",
    "**Hint:** You will need join the files listed below.  To get credit for this exercise, you will need to create a database containing these three tables and use the `sqlalchemy` join methods presented above."
   ]
  },
  {
   "cell_type": "code",
   "execution_count": 1,
   "metadata": {
    "slideshow": {
     "slide_type": "fragment"
    }
   },
   "outputs": [],
   "source": [
    "files = (\"./data/baseball/core/Batting.csv\", \n",
    "              \"./data/baseball/core/People.csv\",\n",
    "              \"./data/baseball/core/Teams.csv\")"
   ]
  },
  {
   "cell_type": "code",
   "execution_count": 2,
   "metadata": {},
   "outputs": [],
   "source": [
    "import pandas as pd\n",
    "from sqlalchemy.orm import sessionmaker\n",
    "from sqlalchemy import create_engine, func\n",
    "from sqlalchemy.ext.automap import automap_base\n",
    "from sqlalchemy import select\n",
    "\n"
   ]
  },
  {
   "cell_type": "code",
   "execution_count": 3,
   "metadata": {},
   "outputs": [],
   "source": [
    "from sqlalchemy import Integer, Float, String, DateTime\n",
    "DTYPES_TO_SQLALCHEMY_TYPES = {'O':String,\n",
    "                              'i':Integer,\n",
    "                              'f':Float,\n",
    "                              'M':DateTime}"
   ]
  },
  {
   "cell_type": "code",
   "execution_count": 4,
   "metadata": {},
   "outputs": [],
   "source": [
    "batting, people, teams = [pd.read_csv(x) for x in files]"
   ]
  },
  {
   "cell_type": "code",
   "execution_count": 5,
   "metadata": {},
   "outputs": [],
   "source": [
    "def get_sql_types(df):\n",
    "    sql_type = lambda dtype: DTYPES_TO_SQLALCHEMY_TYPES[dtype.kind] \n",
    "    cols_and_dtypes = lambda df: zip(df.columns, df.dtypes)\n",
    "    return {col:sql_type(dtype) \n",
    "            for col, dtype in cols_and_dtypes(df)}"
   ]
  },
  {
   "cell_type": "code",
   "execution_count": 8,
   "metadata": {},
   "outputs": [],
   "source": [
    "people_sqltypes = get_sql_types(people)\n",
    "teams_sqltypes = get_sql_types(teams)\n",
    "batting_sqltypes = get_sql_types(batting)"
   ]
  },
  {
   "cell_type": "code",
   "execution_count": 16,
   "metadata": {},
   "outputs": [
    {
     "name": "stdout",
     "output_type": "stream",
     "text": [
      "\n",
      "CREATE TABLE people (\n",
      "\t\"playerID\" VARCHAR NOT NULL, \n",
      "\t\"birthYear\" FLOAT, \n",
      "\t\"birthMonth\" FLOAT, \n",
      "\t\"birthDay\" FLOAT, \n",
      "\t\"birthCountry\" VARCHAR, \n",
      "\t\"birthState\" VARCHAR, \n",
      "\t\"birthCity\" VARCHAR, \n",
      "\t\"deathYear\" FLOAT, \n",
      "\t\"deathMonth\" FLOAT, \n",
      "\t\"deathDay\" FLOAT, \n",
      "\t\"deathCountry\" VARCHAR, \n",
      "\t\"deathState\" VARCHAR, \n",
      "\t\"deathCity\" VARCHAR, \n",
      "\t\"nameFirst\" VARCHAR, \n",
      "\t\"nameLast\" VARCHAR, \n",
      "\t\"nameGiven\" VARCHAR, \n",
      "\tweight FLOAT, \n",
      "\theight FLOAT, \n",
      "\tbats VARCHAR, \n",
      "\tthrows VARCHAR, \n",
      "\tdebut VARCHAR, \n",
      "\t\"finalGame\" VARCHAR, \n",
      "\t\"retroID\" VARCHAR, \n",
      "\t\"bbrefID\" VARCHAR, \n",
      "\tCONSTRAINT people_pk PRIMARY KEY (\"playerID\")\n",
      ")\n",
      "\n",
      "\n",
      "\n",
      "CREATE TABLE teams (\n",
      "\t\"yearID\" INTEGER, \n",
      "\t\"lgID\" VARCHAR, \n",
      "\t\"teamID\" VARCHAR, \n",
      "\t\"franchID\" VARCHAR, \n",
      "\t\"divID\" VARCHAR, \n",
      "\t\"Rank\" INTEGER, \n",
      "\t\"G\" INTEGER, \n",
      "\t\"Ghome\" FLOAT, \n",
      "\t\"W\" INTEGER, \n",
      "\t\"L\" INTEGER, \n",
      "\t\"DivWin\" VARCHAR, \n",
      "\t\"WCWin\" VARCHAR, \n",
      "\t\"LgWin\" VARCHAR, \n",
      "\t\"WSWin\" VARCHAR, \n",
      "\t\"R\" INTEGER, \n",
      "\t\"AB\" INTEGER, \n",
      "\t\"H\" INTEGER, \n",
      "\t\"2B\" INTEGER, \n",
      "\t\"3B\" INTEGER, \n",
      "\t\"HR\" INTEGER, \n",
      "\t\"BB\" FLOAT, \n",
      "\t\"SO\" FLOAT, \n",
      "\t\"SB\" FLOAT, \n",
      "\t\"CS\" FLOAT, \n",
      "\t\"HBP\" FLOAT, \n",
      "\t\"SF\" FLOAT, \n",
      "\t\"RA\" INTEGER, \n",
      "\t\"ER\" INTEGER, \n",
      "\t\"ERA\" FLOAT, \n",
      "\t\"CG\" INTEGER, \n",
      "\t\"SHO\" INTEGER, \n",
      "\t\"SV\" INTEGER, \n",
      "\t\"IPouts\" INTEGER, \n",
      "\t\"HA\" INTEGER, \n",
      "\t\"HRA\" INTEGER, \n",
      "\t\"BBA\" INTEGER, \n",
      "\t\"SOA\" INTEGER, \n",
      "\t\"E\" INTEGER, \n",
      "\t\"DP\" INTEGER, \n",
      "\t\"FP\" FLOAT, \n",
      "\tname VARCHAR, \n",
      "\tpark VARCHAR, \n",
      "\tattendance FLOAT, \n",
      "\t\"BPF\" INTEGER, \n",
      "\t\"PPF\" INTEGER, \n",
      "\t\"teamIDBR\" VARCHAR, \n",
      "\t\"teamIDlahman45\" VARCHAR, \n",
      "\t\"teamIDretro\" VARCHAR\n",
      ")\n",
      "\n",
      "\n",
      "\n",
      "CREATE TABLE batting (\n",
      "\t\"playerID\" VARCHAR, \n",
      "\t\"yearID\" INTEGER, \n",
      "\tstint INTEGER, \n",
      "\t\"teamID\" VARCHAR, \n",
      "\t\"lgID\" VARCHAR, \n",
      "\t\"G\" INTEGER, \n",
      "\t\"AB\" INTEGER, \n",
      "\t\"R\" INTEGER, \n",
      "\t\"H\" INTEGER, \n",
      "\t\"2B\" INTEGER, \n",
      "\t\"3B\" INTEGER, \n",
      "\t\"HR\" INTEGER, \n",
      "\t\"RBI\" FLOAT, \n",
      "\t\"SB\" FLOAT, \n",
      "\t\"CS\" FLOAT, \n",
      "\t\"BB\" INTEGER, \n",
      "\t\"SO\" FLOAT, \n",
      "\t\"IBB\" FLOAT, \n",
      "\t\"HBP\" FLOAT, \n",
      "\t\"SH\" FLOAT, \n",
      "\t\"SF\" FLOAT, \n",
      "\t\"GIDP\" FLOAT\n",
      ")\n",
      "\n",
      "\n"
     ]
    }
   ],
   "source": [
    "mang_eng = create_engine(\"sqlite:///databases/baseball_1_6.db\")\n",
    "mang_eng.echo = False\n",
    "people_schema = pd.io.sql.get_schema(people, 'people', keys='playerID', con=mang_eng, dtype=people_sqltypes)\n",
    "teams_schema = pd.io.sql.get_schema(teams, 'teams', con=mang_eng, dtype=teams_sqltypes)\n",
    "batting_schema = pd.io.sql.get_schema(batting, 'batting',con=mang_eng, dtype=batting_sqltypes)\n",
    "\n",
    "print(people_schema)\n",
    "print(teams_schema)\n",
    "print(batting_schema)"
   ]
  },
  {
   "cell_type": "code",
   "execution_count": 10,
   "metadata": {},
   "outputs": [
    {
     "data": {
      "text/plain": [
       "<sqlalchemy.engine.result.ResultProxy at 0x12599ea20>"
      ]
     },
     "execution_count": 10,
     "metadata": {},
     "output_type": "execute_result"
    }
   ],
   "source": [
    "mang_eng.execute(teams_schema)\n",
    "mang_eng.execute(batting_schema)\n",
    "mang_eng.execute(people_schema)"
   ]
  },
  {
   "cell_type": "code",
   "execution_count": 17,
   "metadata": {},
   "outputs": [],
   "source": [
    "people.to_sql(name = 'people',\n",
    "               con = mang_eng, \n",
    "               if_exists = 'append',\n",
    "               index = False,\n",
    "               dtype = people_sqltypes\n",
    "              )"
   ]
  },
  {
   "cell_type": "code",
   "execution_count": 12,
   "metadata": {},
   "outputs": [],
   "source": [
    "batting.to_sql(name = 'batting',\n",
    "               con = mang_eng, \n",
    "               if_exists = 'append',\n",
    "               index = False,\n",
    "               dtype = batting_sqltypes\n",
    "              )"
   ]
  },
  {
   "cell_type": "code",
   "execution_count": 13,
   "metadata": {},
   "outputs": [],
   "source": [
    "teams.to_sql(name = 'teams',\n",
    "               con = mang_eng, \n",
    "               if_exists = 'append',\n",
    "               index = False,\n",
    "               dtype = teams_sqltypes\n",
    "             )"
   ]
  },
  {
   "cell_type": "code",
   "execution_count": 14,
   "metadata": {},
   "outputs": [],
   "source": [
    "from sqlalchemy.ext.automap import automap_base\n",
    "from sqlalchemy.orm import sessionmaker\n",
    "from sqlalchemy import select\n",
    "\n",
    "mang_eng2 = create_engine(\"sqlite:///databases/baseball_1_7.db\") \n",
    "Session = sessionmaker(mang_eng)\n",
    "session = Session()"
   ]
  },
  {
   "cell_type": "code",
   "execution_count": 18,
   "metadata": {},
   "outputs": [
    {
     "ename": "AttributeError",
     "evalue": "people",
     "output_type": "error",
     "traceback": [
      "\u001b[0;31m---------------------------------------------------------------------------\u001b[0m",
      "\u001b[0;31mKeyError\u001b[0m                                  Traceback (most recent call last)",
      "\u001b[0;32m~/.pyenv/versions/anaconda3-5.3.1/lib/python3.7/site-packages/sqlalchemy/util/_collections.py\u001b[0m in \u001b[0;36m__getattr__\u001b[0;34m(self, key)\u001b[0m\n\u001b[1;32m    204\u001b[0m         \u001b[0;32mtry\u001b[0m\u001b[0;34m:\u001b[0m\u001b[0;34m\u001b[0m\u001b[0;34m\u001b[0m\u001b[0m\n\u001b[0;32m--> 205\u001b[0;31m             \u001b[0;32mreturn\u001b[0m \u001b[0mself\u001b[0m\u001b[0;34m.\u001b[0m\u001b[0m_data\u001b[0m\u001b[0;34m[\u001b[0m\u001b[0mkey\u001b[0m\u001b[0;34m]\u001b[0m\u001b[0;34m\u001b[0m\u001b[0;34m\u001b[0m\u001b[0m\n\u001b[0m\u001b[1;32m    206\u001b[0m         \u001b[0;32mexcept\u001b[0m \u001b[0mKeyError\u001b[0m\u001b[0;34m:\u001b[0m\u001b[0;34m\u001b[0m\u001b[0;34m\u001b[0m\u001b[0m\n",
      "\u001b[0;31mKeyError\u001b[0m: 'people'",
      "\nDuring handling of the above exception, another exception occurred:\n",
      "\u001b[0;31mAttributeError\u001b[0m                            Traceback (most recent call last)",
      "\u001b[0;32m<ipython-input-18-916c3c724523>\u001b[0m in \u001b[0;36m<module>\u001b[0;34m\u001b[0m\n\u001b[1;32m      1\u001b[0m \u001b[0mBase\u001b[0m \u001b[0;34m=\u001b[0m \u001b[0mautomap_base\u001b[0m\u001b[0;34m(\u001b[0m\u001b[0;34m)\u001b[0m\u001b[0;34m\u001b[0m\u001b[0;34m\u001b[0m\u001b[0m\n\u001b[1;32m      2\u001b[0m \u001b[0mBase\u001b[0m\u001b[0;34m.\u001b[0m\u001b[0mprepare\u001b[0m\u001b[0;34m(\u001b[0m\u001b[0mmang_eng2\u001b[0m\u001b[0;34m,\u001b[0m \u001b[0mreflect\u001b[0m \u001b[0;34m=\u001b[0m \u001b[0;32mTrue\u001b[0m\u001b[0;34m)\u001b[0m\u001b[0;34m\u001b[0m\u001b[0;34m\u001b[0m\u001b[0m\n\u001b[0;32m----> 3\u001b[0;31m \u001b[0mPeople\u001b[0m \u001b[0;34m=\u001b[0m \u001b[0mBase\u001b[0m\u001b[0;34m.\u001b[0m\u001b[0mclasses\u001b[0m\u001b[0;34m.\u001b[0m\u001b[0mpeople\u001b[0m\u001b[0;34m\u001b[0m\u001b[0;34m\u001b[0m\u001b[0m\n\u001b[0m\u001b[1;32m      4\u001b[0m \u001b[0;31m#teams = Base.classes.teams\u001b[0m\u001b[0;34m\u001b[0m\u001b[0;34m\u001b[0m\u001b[0;34m\u001b[0m\u001b[0m\n\u001b[1;32m      5\u001b[0m \u001b[0;31m#batting = Base.classes.batting\u001b[0m\u001b[0;34m\u001b[0m\u001b[0;34m\u001b[0m\u001b[0;34m\u001b[0m\u001b[0m\n",
      "\u001b[0;32m~/.pyenv/versions/anaconda3-5.3.1/lib/python3.7/site-packages/sqlalchemy/util/_collections.py\u001b[0m in \u001b[0;36m__getattr__\u001b[0;34m(self, key)\u001b[0m\n\u001b[1;32m    205\u001b[0m             \u001b[0;32mreturn\u001b[0m \u001b[0mself\u001b[0m\u001b[0;34m.\u001b[0m\u001b[0m_data\u001b[0m\u001b[0;34m[\u001b[0m\u001b[0mkey\u001b[0m\u001b[0;34m]\u001b[0m\u001b[0;34m\u001b[0m\u001b[0;34m\u001b[0m\u001b[0m\n\u001b[1;32m    206\u001b[0m         \u001b[0;32mexcept\u001b[0m \u001b[0mKeyError\u001b[0m\u001b[0;34m:\u001b[0m\u001b[0;34m\u001b[0m\u001b[0;34m\u001b[0m\u001b[0m\n\u001b[0;32m--> 207\u001b[0;31m             \u001b[0;32mraise\u001b[0m \u001b[0mAttributeError\u001b[0m\u001b[0;34m(\u001b[0m\u001b[0mkey\u001b[0m\u001b[0;34m)\u001b[0m\u001b[0;34m\u001b[0m\u001b[0;34m\u001b[0m\u001b[0m\n\u001b[0m\u001b[1;32m    208\u001b[0m \u001b[0;34m\u001b[0m\u001b[0m\n\u001b[1;32m    209\u001b[0m     \u001b[0;32mdef\u001b[0m \u001b[0m__contains__\u001b[0m\u001b[0;34m(\u001b[0m\u001b[0mself\u001b[0m\u001b[0;34m,\u001b[0m \u001b[0mkey\u001b[0m\u001b[0;34m)\u001b[0m\u001b[0;34m:\u001b[0m\u001b[0;34m\u001b[0m\u001b[0;34m\u001b[0m\u001b[0m\n",
      "\u001b[0;31mAttributeError\u001b[0m: people"
     ]
    }
   ],
   "source": [
    "Base = automap_base()\n",
    "Base.prepare(mang_eng2, reflect = True)\n",
    "People = Base.classes.people\n",
    "#teams = Base.classes.teams\n",
    "#batting = Base.classes.batting"
   ]
  },
  {
   "cell_type": "code",
   "execution_count": null,
   "metadata": {},
   "outputs": [],
   "source": [
    "battingTbl.__table__.drop()\n",
    "teamsTbl.__table__.drop()\n",
    "PeopleTbl.__table__.drop()"
   ]
  },
  {
   "cell_type": "code",
   "execution_count": null,
   "metadata": {},
   "outputs": [],
   "source": [
    "battingTbl = batting.__table__\n",
    "teamsTbl = teams.__table__\n",
    "PeopleTbl = People.__table__\n",
    "\n",
    "\n"
   ]
  },
  {
   "cell_type": "code",
   "execution_count": null,
   "metadata": {},
   "outputs": [],
   "source": [
    "from sqlalchemy import union, union_all, intersect, intersect_all, except_, except_all\n",
    "from sqlalchemy import select as selectq\n"
   ]
  },
  {
   "cell_type": "code",
   "execution_count": null,
   "metadata": {},
   "outputs": [],
   "source": [
    "pd.read_sql_query(selectq([People]), con=mang_eng2)"
   ]
  },
  {
   "cell_type": "code",
   "execution_count": null,
   "metadata": {},
   "outputs": [],
   "source": [
    "pd.read_sql_query(selectq([teams]), con=mang_eng2)"
   ]
  },
  {
   "cell_type": "code",
   "execution_count": null,
   "metadata": {},
   "outputs": [],
   "source": [
    "pd.read_sql_query(selectq([batting]), con=mang_eng2)"
   ]
  },
  {
   "cell_type": "code",
   "execution_count": null,
   "metadata": {},
   "outputs": [],
   "source": []
  },
  {
   "cell_type": "code",
   "execution_count": null,
   "metadata": {},
   "outputs": [],
   "source": []
  },
  {
   "cell_type": "code",
   "execution_count": null,
   "metadata": {},
   "outputs": [],
   "source": []
  },
  {
   "cell_type": "code",
   "execution_count": null,
   "metadata": {},
   "outputs": [],
   "source": []
  },
  {
   "cell_type": "code",
   "execution_count": null,
   "metadata": {},
   "outputs": [],
   "source": []
  },
  {
   "cell_type": "code",
   "execution_count": null,
   "metadata": {},
   "outputs": [],
   "source": []
  },
  {
   "cell_type": "code",
   "execution_count": null,
   "metadata": {},
   "outputs": [],
   "source": []
  },
  {
   "cell_type": "code",
   "execution_count": null,
   "metadata": {
    "slideshow": {
     "slide_type": "fragment"
    }
   },
   "outputs": [],
   "source": [
    "# Your code here\n",
    "\n",
    "engine = create_engine(\"sqlite:///databases/test.db\", echo = False)\n",
    "Base = automap_base()\n",
    "Base.prepare(engine, reflect=True)\n",
    "Session = sessionmaker(engine)\n",
    "session = Session()\n",
    "\n",
    "people = Base.classes.people"
   ]
  },
  {
   "cell_type": "code",
   "execution_count": null,
   "metadata": {},
   "outputs": [],
   "source": []
  },
  {
   "cell_type": "code",
   "execution_count": null,
   "metadata": {},
   "outputs": [],
   "source": [
    "Base.classes.people"
   ]
  },
  {
   "cell_type": "code",
   "execution_count": null,
   "metadata": {},
   "outputs": [],
   "source": [
    "batting = pd.read_csv(files[1])"
   ]
  },
  {
   "cell_type": "code",
   "execution_count": null,
   "metadata": {},
   "outputs": [],
   "source": [
    "batting_table = Base.classes.batting"
   ]
  },
  {
   "cell_type": "code",
   "execution_count": null,
   "metadata": {},
   "outputs": [],
   "source": [
    "batting_table"
   ]
  },
  {
   "cell_type": "code",
   "execution_count": null,
   "metadata": {},
   "outputs": [],
   "source": [
    "engine = create_engine('sqlite:///batting.db')\n",
    "Base.metadata.create_all(engine)\n",
    "\n",
    "df = pd.read_csv(f1)\n",
    "df.to_sql('batting',\n",
    "        con=engine, \n",
    "        index = False, \n",
    "        if_exists='append')"
   ]
  },
  {
   "cell_type": "code",
   "execution_count": null,
   "metadata": {},
   "outputs": [],
   "source": []
  },
  {
   "cell_type": "code",
   "execution_count": null,
   "metadata": {},
   "outputs": [],
   "source": []
  },
  {
   "cell_type": "markdown",
   "metadata": {
    "slideshow": {
     "slide_type": "slide"
    }
   },
   "source": [
    "## Up Next\n",
    "\n",
    "Stuff"
   ]
  }
 ],
 "metadata": {
  "celltoolbar": "Slideshow",
  "kernelspec": {
   "display_name": "Python 3",
   "language": "python",
   "name": "python3"
  },
  "language_info": {
   "codemirror_mode": {
    "name": "ipython",
    "version": 3
   },
   "file_extension": ".py",
   "mimetype": "text/x-python",
   "name": "python",
   "nbconvert_exporter": "python",
   "pygments_lexer": "ipython3",
   "version": "3.7.2"
  },
  "varInspector": {
   "cols": {
    "lenName": 16,
    "lenType": 16,
    "lenVar": 40
   },
   "kernels_config": {
    "python": {
     "delete_cmd_postfix": "",
     "delete_cmd_prefix": "del ",
     "library": "var_list.py",
     "varRefreshCmd": "print(var_dic_list())"
    },
    "r": {
     "delete_cmd_postfix": ") ",
     "delete_cmd_prefix": "rm(",
     "library": "var_list.r",
     "varRefreshCmd": "cat(var_dic_list()) "
    }
   },
   "types_to_exclude": [
    "module",
    "function",
    "builtin_function_or_method",
    "instance",
    "_Feature"
   ],
   "window_display": false
  }
 },
 "nbformat": 4,
 "nbformat_minor": 2
}
