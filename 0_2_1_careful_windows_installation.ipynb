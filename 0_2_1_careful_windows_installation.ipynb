{
 "cells": [
  {
   "cell_type": "markdown",
   "metadata": {},
   "source": [
    "## A Careful Python Installation on Windows\n",
    "\n",
    "1. Turn on Windows Subsystem for Linux\n",
    "2. Install Ubuntu from the Window's Store\n",
    "3. Update/Upgrade Ubuntu\n",
    "4. Install `pyenv`\n",
    "5. Update/upgrade `pyenv`\n",
    "6. Install a recent version of Anaconda with `pyenv`\n",
    "7. Update/upgrade `pip`\n",
    "8. Update/upgrade `conda`\n",
    "9. Install the DSCI 430 requirements"
   ]
  },
  {
   "cell_type": "markdown",
   "metadata": {},
   "source": [
    "## Activating and Turning on Windows Subsystem for Linux\n",
    "\n",
    "I will show how to complete this task in the attached video.\n",
    "\n",
    "**Notes:** \n",
    "\n",
    "* My process is adapted from [this video](https://www.youtube.com/watch?v=dq183fOB1Xg).\n",
    "* [Learn more about WSL](https://www.youtube.com/watch?v=JZCPYWrTLTg)"
   ]
  },
  {
   "cell_type": "markdown",
   "metadata": {},
   "source": [
    "## Update Ubuntu "
   ]
  },
  {
   "cell_type": "raw",
   "metadata": {},
   "source": [
    "sudo apt update \n",
    "sudo apt upgrade "
   ]
  },
  {
   "cell_type": "markdown",
   "metadata": {},
   "source": [
    "## Install some standard development tools"
   ]
  },
  {
   "cell_type": "raw",
   "metadata": {},
   "source": [
    "sudo apt-get install -y make build-essential libssl-dev zlib1g-dev libbz2-dev libreadline-dev libsqlite3-dev wget curl llvm libncurses5-dev xz-utils tk-dev libxml2-dev libxmlsec1-dev libffi-dev "
   ]
  },
  {
   "cell_type": "markdown",
   "metadata": {},
   "source": [
    "## Use `nano` text editor to edit Bash profile "
   ]
  },
  {
   "cell_type": "raw",
   "metadata": {},
   "source": [
    "nano ~/.bash_profile "
   ]
  },
  {
   "cell_type": "markdown",
   "metadata": {},
   "source": [
    "## Your `home` in `wsl`\n",
    "\n",
    "Note that `~` when in `wsl` refers to your Ubuntu home.  Assuming your main Window's drive is `C:`, your windows home, while in `wsl` is located at"
   ]
  },
  {
   "cell_type": "raw",
   "metadata": {},
   "source": [
    "cd /mnt/c/Users/your_windows_username/"
   ]
  },
  {
   "cell_type": "markdown",
   "metadata": {},
   "source": [
    "## The easiest way to nevigate back to Windows folders is `exit` + `cd` + `wsl`"
   ]
  },
  {
   "cell_type": "markdown",
   "metadata": {},
   "source": [
    "## How to navigate  the path to your DSCI 430 folder"
   ]
  },
  {
   "cell_type": "markdown",
   "metadata": {},
   "source": [
    "#### Step 0 - Make sure you alway use Powershell in administrator mode"
   ]
  },
  {
   "cell_type": "markdown",
   "metadata": {},
   "source": [
    "#### Step 1 - `exit` `wsl` to get quickly get back to \"Windows\""
   ]
  },
  {
   "cell_type": "raw",
   "metadata": {},
   "source": [
    "exit"
   ]
  },
  {
   "cell_type": "markdown",
   "metadata": {},
   "source": [
    "#### Use `cd` to navigate to your DSCI 430 folder"
   ]
  },
  {
   "cell_type": "raw",
   "metadata": {},
   "source": [
    "cd Desktop/DSCI430"
   ]
  },
  {
   "cell_type": "markdown",
   "metadata": {},
   "source": [
    "#### Reenter `wsl`"
   ]
  },
  {
   "cell_type": "raw",
   "metadata": {},
   "source": [
    "wsl"
   ]
  },
  {
   "cell_type": "markdown",
   "metadata": {},
   "source": [
    "## Install Pyenv Installer "
   ]
  },
  {
   "cell_type": "raw",
   "metadata": {},
   "source": [
    "curl -L https://raw.githubusercontent.com/pyenv/pyenv-installer/master/bin/pyenv-installer | bash"
   ]
  },
  {
   "cell_type": "markdown",
   "metadata": {},
   "source": [
    "## Use Nano text editor to edit Bash profile "
   ]
  },
  {
   "cell_type": "markdown",
   "metadata": {},
   "source": [
    "nano ~/.bash_profile "
   ]
  },
  {
   "cell_type": "markdown",
   "metadata": {},
   "source": [
    "## Paste into bash profile export\n",
    " \n",
    "**Note:** Change `lyonk71` to the username you selected for Ubuntu"
   ]
  },
  {
   "cell_type": "raw",
   "metadata": {},
   "source": [
    "PATH=\"/home/your_linux_username/.pyenv/bin:$PATH\" \n",
    "eval \"$(pyenv init -)\" \n",
    "eval \"$(pyenv virtualenv-init -)\" "
   ]
  },
  {
   "cell_type": "markdown",
   "metadata": {},
   "source": [
    "## Activate the updated Bash profile "
   ]
  },
  {
   "cell_type": "raw",
   "metadata": {},
   "source": [
    "source ~/.bash_profile"
   ]
  },
  {
   "cell_type": "markdown",
   "metadata": {},
   "source": [
    "OR"
   ]
  },
  {
   "cell_type": "raw",
   "metadata": {},
   "source": [
    "exit\n",
    "wsl"
   ]
  },
  {
   "cell_type": "markdown",
   "metadata": {},
   "source": [
    "## Update Pyenv "
   ]
  },
  {
   "cell_type": "raw",
   "metadata": {},
   "source": [
    "pyenv update "
   ]
  },
  {
   "cell_type": "markdown",
   "metadata": {},
   "source": [
    "## Finding python distribution to install"
   ]
  },
  {
   "cell_type": "raw",
   "metadata": {},
   "source": [
    "pyenv install --list"
   ]
  },
  {
   "cell_type": "markdown",
   "metadata": {},
   "source": [
    "#### Narrowing the list"
   ]
  },
  {
   "cell_type": "raw",
   "metadata": {},
   "source": [
    "pyenv install --list | grep anaconda"
   ]
  },
  {
   "cell_type": "markdown",
   "metadata": {},
   "source": [
    "## Install a Python Version "
   ]
  },
  {
   "cell_type": "raw",
   "metadata": {},
   "source": [
    "pyenv install  \n",
    "pyenv global 3.6.6 "
   ]
  },
  {
   "cell_type": "markdown",
   "metadata": {},
   "source": [
    "# Upgrade pip "
   ]
  },
  {
   "cell_type": "markdown",
   "metadata": {},
   "source": [
    "pip install --upgrade pip "
   ]
  },
  {
   "cell_type": "markdown",
   "metadata": {},
   "source": [
    "# Install Jupyter Lab "
   ]
  },
  {
   "cell_type": "markdown",
   "metadata": {},
   "source": [
    "pip install jupyterlab"
   ]
  }
 ],
 "metadata": {
  "kernelspec": {
   "display_name": "Python 3",
   "language": "python",
   "name": "python3"
  },
  "language_info": {
   "codemirror_mode": {
    "name": "ipython",
    "version": 3
   },
   "file_extension": ".py",
   "mimetype": "text/x-python",
   "name": "python",
   "nbconvert_exporter": "python",
   "pygments_lexer": "ipython3",
   "version": "3.6.2"
  },
  "varInspector": {
   "cols": {
    "lenName": 16,
    "lenType": 16,
    "lenVar": 40
   },
   "kernels_config": {
    "python": {
     "delete_cmd_postfix": "",
     "delete_cmd_prefix": "del ",
     "library": "var_list.py",
     "varRefreshCmd": "print(var_dic_list())"
    },
    "r": {
     "delete_cmd_postfix": ") ",
     "delete_cmd_prefix": "rm(",
     "library": "var_list.r",
     "varRefreshCmd": "cat(var_dic_list()) "
    }
   },
   "types_to_exclude": [
    "module",
    "function",
    "builtin_function_or_method",
    "instance",
    "_Feature"
   ],
   "window_display": false
  }
 },
 "nbformat": 4,
 "nbformat_minor": 2
}
