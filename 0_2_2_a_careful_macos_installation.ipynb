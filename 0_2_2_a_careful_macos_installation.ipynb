{
 "cells": [
  {
   "cell_type": "markdown",
   "metadata": {},
   "source": [
    "# A Careful MacOS Installation\n",
    "\n",
    "1. Install `brew`\n",
    "2. Install `pyenv`\n",
    "3. Use `pyenv` to install anaconda\n",
    "4. Install java and DSCI 430 specfic modules"
   ]
  },
  {
   "cell_type": "markdown",
   "metadata": {},
   "source": [
    "## Step 1 - Install `brew` and `brew cask`"
   ]
  },
  {
   "cell_type": "markdown",
   "metadata": {},
   "source": [
    "Run the following in the terminal to install `brew` and `brew cask`\n",
    "\n",
    "```bash\n",
    "$ /usr/bin/ruby -e \"$(curl -fsSL https://raw.githubusercontent.com/Homebrew/install/master/install)\"\n",
    "```"
   ]
  },
  {
   "cell_type": "markdown",
   "metadata": {},
   "source": [
    "## Step 2 - Install and update `pyenv`\n",
    "\n",
    "1. Run the following code to install `pyenv`\n",
    "\n",
    "```bash\n",
    "brew update\n",
    "brew install pyenv\n",
    "```\n",
    "\n",
    "2. Update `pyenv`\n",
    "\n",
    "```bash\n",
    "pyenv update \n",
    "```"
   ]
  },
  {
   "cell_type": "markdown",
   "metadata": {},
   "source": [
    "## Step 3 - Use pyenv to install anaconda\n",
    "\n",
    "* To see a list of all possible installations, run\n",
    "\n",
    "```bash\n",
    "pyenv install --list\n",
    "```\n",
    "\n",
    "* To narrow the list to just anaconda, use\n",
    "\n",
    "```bash\n",
    "pyenv install --list | grep anaconda\n",
    "```\n",
    "\n",
    "* To install a recent anaconda, use\n",
    "\n",
    "```bash\n",
    "# This will take a while\n",
    "pyenv install anaconda3-5.3.1\n",
    "```"
   ]
  },
  {
   "cell_type": "markdown",
   "metadata": {},
   "source": [
    "## Step 4 - Install `java`\n",
    "\n",
    "1. [Source](https://gist.githubusercontent.com/chaines27/7f9a91237e79e6b4b28899b96d74986f/raw/96348a1014aaf4b6153895b2010324d3eb4b14f5/homebrew-openjdk-configuration)"
   ]
  },
  {
   "cell_type": "markdown",
   "metadata": {},
   "source": [
    "#### OpenJDK 1.8\n",
    "1. Follow the instructions from [this guide](https://github.com/AdoptOpenJDK/homebrew-openjdk) to tap and install jdk8.\n",
    "\n",
    "```bash\n",
    "brew tap AdoptOpenJDK/openjdk\n",
    "brew cask install adoptopenjdk8-jre\n",
    "```"
   ]
  },
  {
   "cell_type": "markdown",
   "metadata": {},
   "source": [
    "2. Run the following command to create the necessary directories (change the version as needed)\n",
    "\n",
    "```bash\n",
    "sudo mkdir /Library/Java/JavaVirtualMachines/openjdk-1.8.0_172.jdk\n",
    "sudo mkdir /Library/Java/JavaVirtualMachines/openjdk-1.8.0_172.jdk/Contents\n",
    "sudo mkdir /Library/Java/JavaVirtualMachines/openjdk-1.8.0_172.jdk/Contents/MacOS\n",
    "```"
   ]
  },
  {
   "cell_type": "markdown",
   "metadata": {},
   "source": [
    "3. Run the following commands to link to the existing homebrew-openjdk install (change the version as needed)\n",
    "\n",
    "```bash\n",
    "sudo ln -s /Library/Java/JavaVirtualMachines/openjdk-1.8.0_172.jdk/Contents/Home /usr/local/Cellar/adoptopenjdk-openjdk8/jdk8u172-b11\n",
    "sudo ln -s /usr/local/Cellar/adoptopenjdk-openjdk8/jdk8u172-b11/jre/lib/jli/libjli.dylib /Library/Java/JavaVirtualMachines/openjdk-1.8.0_172.jdk/Contents/MacOS/libjli.dylib\n",
    "```"
   ]
  },
  {
   "cell_type": "markdown",
   "metadata": {},
   "source": [
    "4. Copy the contents of [https://gist.github.com/chaines27/32810cdfddefeeb5965e2969eb709fb5](https://gist.github.com/chaines27/32810cdfddefeeb5965e2969eb709fb5) to `/Library/Java/JavaVirtualMachines/openjdk-1.8.0_172.jdk/Contents/Info.plist`"
   ]
  },
  {
   "cell_type": "markdown",
   "metadata": {},
   "source": [
    "5. Verify that macOS sees the openjdk by running\n",
    "\n",
    "```bash\n",
    "/usr/libexec/java_home -V\n",
    "```\n",
    "\n",
    "You should see something like this:\n",
    "\n",
    "```bash\n",
    "Matching Java Virtual Machines (1):\n",
    "    1.8.0_172, x86_64:\t\"OpenJDK 1.8.0\"\t/Library/Java/JavaVirtualMachines/openjdk-1.8.0_172.jdk/Contents/Home\n",
    "\n",
    "/Library/Java/JavaVirtualMachines/openjdk-1.8.0_172.jdk/Contents/Home\n",
    "```"
   ]
  },
  {
   "cell_type": "code",
   "execution_count": null,
   "metadata": {},
   "outputs": [],
   "source": []
  }
 ],
 "metadata": {
  "kernelspec": {
   "display_name": "Python 3",
   "language": "python",
   "name": "python3"
  },
  "language_info": {
   "codemirror_mode": {
    "name": "ipython",
    "version": 3
   },
   "file_extension": ".py",
   "mimetype": "text/x-python",
   "name": "python",
   "nbconvert_exporter": "python",
   "pygments_lexer": "ipython3",
   "version": "3.5.2"
  }
 },
 "nbformat": 4,
 "nbformat_minor": 2
}
